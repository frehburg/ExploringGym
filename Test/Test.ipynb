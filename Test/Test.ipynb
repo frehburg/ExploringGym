{
 "cells": [
  {
   "cell_type": "code",
   "execution_count": 1,
   "metadata": {
    "collapsed": true,
    "pycharm": {
     "name": "#%%\n"
    }
   },
   "outputs": [],
   "source": [
    "import gym"
   ]
  },
  {
   "cell_type": "code",
   "execution_count": 3,
   "outputs": [
    {
     "name": "stdout",
     "output_type": "stream",
     "text": [
      "Total envs available: 103\n",
      "EnvSpec(CartPole-v0)\n",
      "EnvSpec(CartPole-v1)\n",
      "EnvSpec(MountainCar-v0)\n",
      "EnvSpec(MountainCarContinuous-v0)\n",
      "EnvSpec(Pendulum-v1)\n",
      "EnvSpec(Acrobot-v1)\n",
      "EnvSpec(LunarLander-v2)\n",
      "EnvSpec(LunarLanderContinuous-v2)\n",
      "EnvSpec(BipedalWalker-v3)\n",
      "EnvSpec(BipedalWalkerHardcore-v3)\n",
      "EnvSpec(CarRacing-v0)\n",
      "EnvSpec(Blackjack-v1)\n",
      "EnvSpec(FrozenLake-v1)\n",
      "EnvSpec(FrozenLake8x8-v1)\n",
      "EnvSpec(CliffWalking-v0)\n",
      "EnvSpec(Taxi-v3)\n",
      "EnvSpec(Reacher-v2)\n",
      "EnvSpec(Pusher-v2)\n",
      "EnvSpec(Thrower-v2)\n",
      "EnvSpec(Striker-v2)\n",
      "EnvSpec(InvertedPendulum-v2)\n",
      "EnvSpec(InvertedDoublePendulum-v2)\n",
      "EnvSpec(HalfCheetah-v2)\n",
      "EnvSpec(HalfCheetah-v3)\n",
      "EnvSpec(Hopper-v2)\n",
      "EnvSpec(Hopper-v3)\n",
      "EnvSpec(Swimmer-v2)\n",
      "EnvSpec(Swimmer-v3)\n",
      "EnvSpec(Walker2d-v2)\n",
      "EnvSpec(Walker2d-v3)\n",
      "EnvSpec(Ant-v2)\n",
      "EnvSpec(Ant-v3)\n",
      "EnvSpec(Humanoid-v2)\n",
      "EnvSpec(Humanoid-v3)\n",
      "EnvSpec(HumanoidStandup-v2)\n",
      "EnvSpec(FetchSlide-v1)\n",
      "EnvSpec(FetchPickAndPlace-v1)\n",
      "EnvSpec(FetchReach-v1)\n",
      "EnvSpec(FetchPush-v1)\n",
      "EnvSpec(HandReach-v0)\n",
      "EnvSpec(HandManipulateBlockRotateZ-v0)\n",
      "EnvSpec(HandManipulateBlockRotateZTouchSensors-v0)\n",
      "EnvSpec(HandManipulateBlockRotateZTouchSensors-v1)\n",
      "EnvSpec(HandManipulateBlockRotateParallel-v0)\n",
      "EnvSpec(HandManipulateBlockRotateParallelTouchSensors-v0)\n",
      "EnvSpec(HandManipulateBlockRotateParallelTouchSensors-v1)\n",
      "EnvSpec(HandManipulateBlockRotateXYZ-v0)\n",
      "EnvSpec(HandManipulateBlockRotateXYZTouchSensors-v0)\n",
      "EnvSpec(HandManipulateBlockRotateXYZTouchSensors-v1)\n",
      "EnvSpec(HandManipulateBlockFull-v0)\n",
      "EnvSpec(HandManipulateBlock-v0)\n",
      "EnvSpec(HandManipulateBlockTouchSensors-v0)\n",
      "EnvSpec(HandManipulateBlockTouchSensors-v1)\n",
      "EnvSpec(HandManipulateEggRotate-v0)\n",
      "EnvSpec(HandManipulateEggRotateTouchSensors-v0)\n",
      "EnvSpec(HandManipulateEggRotateTouchSensors-v1)\n",
      "EnvSpec(HandManipulateEggFull-v0)\n",
      "EnvSpec(HandManipulateEgg-v0)\n",
      "EnvSpec(HandManipulateEggTouchSensors-v0)\n",
      "EnvSpec(HandManipulateEggTouchSensors-v1)\n",
      "EnvSpec(HandManipulatePenRotate-v0)\n",
      "EnvSpec(HandManipulatePenRotateTouchSensors-v0)\n",
      "EnvSpec(HandManipulatePenRotateTouchSensors-v1)\n",
      "EnvSpec(HandManipulatePenFull-v0)\n",
      "EnvSpec(HandManipulatePen-v0)\n",
      "EnvSpec(HandManipulatePenTouchSensors-v0)\n",
      "EnvSpec(HandManipulatePenTouchSensors-v1)\n",
      "EnvSpec(FetchSlideDense-v1)\n",
      "EnvSpec(FetchPickAndPlaceDense-v1)\n",
      "EnvSpec(FetchReachDense-v1)\n",
      "EnvSpec(FetchPushDense-v1)\n",
      "EnvSpec(HandReachDense-v0)\n",
      "EnvSpec(HandManipulateBlockRotateZDense-v0)\n",
      "EnvSpec(HandManipulateBlockRotateZTouchSensorsDense-v0)\n",
      "EnvSpec(HandManipulateBlockRotateZTouchSensorsDense-v1)\n",
      "EnvSpec(HandManipulateBlockRotateParallelDense-v0)\n",
      "EnvSpec(HandManipulateBlockRotateParallelTouchSensorsDense-v0)\n",
      "EnvSpec(HandManipulateBlockRotateParallelTouchSensorsDense-v1)\n",
      "EnvSpec(HandManipulateBlockRotateXYZDense-v0)\n",
      "EnvSpec(HandManipulateBlockRotateXYZTouchSensorsDense-v0)\n",
      "EnvSpec(HandManipulateBlockRotateXYZTouchSensorsDense-v1)\n",
      "EnvSpec(HandManipulateBlockFullDense-v0)\n",
      "EnvSpec(HandManipulateBlockDense-v0)\n",
      "EnvSpec(HandManipulateBlockTouchSensorsDense-v0)\n",
      "EnvSpec(HandManipulateBlockTouchSensorsDense-v1)\n",
      "EnvSpec(HandManipulateEggRotateDense-v0)\n",
      "EnvSpec(HandManipulateEggRotateTouchSensorsDense-v0)\n",
      "EnvSpec(HandManipulateEggRotateTouchSensorsDense-v1)\n",
      "EnvSpec(HandManipulateEggFullDense-v0)\n",
      "EnvSpec(HandManipulateEggDense-v0)\n",
      "EnvSpec(HandManipulateEggTouchSensorsDense-v0)\n",
      "EnvSpec(HandManipulateEggTouchSensorsDense-v1)\n",
      "EnvSpec(HandManipulatePenRotateDense-v0)\n",
      "EnvSpec(HandManipulatePenRotateTouchSensorsDense-v0)\n",
      "EnvSpec(HandManipulatePenRotateTouchSensorsDense-v1)\n",
      "EnvSpec(HandManipulatePenFullDense-v0)\n",
      "EnvSpec(HandManipulatePenDense-v0)\n",
      "EnvSpec(HandManipulatePenTouchSensorsDense-v0)\n",
      "EnvSpec(HandManipulatePenTouchSensorsDense-v1)\n",
      "EnvSpec(CubeCrash-v0)\n",
      "EnvSpec(CubeCrashSparse-v0)\n",
      "EnvSpec(CubeCrashScreenBecomesBlack-v0)\n",
      "EnvSpec(MemorizeDigits-v0)\n"
     ]
    }
   ],
   "source": [
    "envs = gym.envs.registry.all()\n",
    "print('Total envs available:', len(envs))\n",
    "for env in envs:\n",
    "    print(env)"
   ],
   "metadata": {
    "collapsed": false,
    "pycharm": {
     "name": "#%%\n"
    }
   }
  },
  {
   "cell_type": "code",
   "execution_count": null,
   "outputs": [],
   "source": [],
   "metadata": {
    "collapsed": false,
    "pycharm": {
     "name": "#%%\n"
    }
   }
  }
 ],
 "metadata": {
  "kernelspec": {
   "display_name": "Python 3",
   "language": "python",
   "name": "python3"
  },
  "language_info": {
   "codemirror_mode": {
    "name": "ipython",
    "version": 2
   },
   "file_extension": ".py",
   "mimetype": "text/x-python",
   "name": "python",
   "nbconvert_exporter": "python",
   "pygments_lexer": "ipython2",
   "version": "2.7.6"
  }
 },
 "nbformat": 4,
 "nbformat_minor": 0
}